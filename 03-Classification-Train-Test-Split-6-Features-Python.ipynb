{
 "cells": [
  {
   "cell_type": "code",
   "execution_count": 1,
   "metadata": {},
   "outputs": [],
   "source": [
    "import matplotlib.pyplot as plt\n",
    "import numpy as np\n",
    "import pandas as pd\n",
    "import seaborn as sns"
   ]
  },
  {
   "cell_type": "code",
   "execution_count": 2,
   "metadata": {},
   "outputs": [],
   "source": [
    "features_name = ['area', 'perimeter', 'compactness', 'kernel_length', 'kernel_width', 'asymmetry_coeff', 'kernel_groove_length', 'target']\n",
    "\n",
    "pd.read_csv('~/uclax-data-science/UCI-ML-Seeds/data/seeds_dataset.csv', sep=\"\\s+\", \n",
    "            header=None, names=features_name, nrows=210)\n",
    "\n",
    "wheat_seeds_df = pd.read_csv('~/uclax-data-science/UCI-ML-Seeds/data/seeds_dataset.csv', sep=\"\\s+\", \n",
    "            header=None, names=features_name, nrows=210)"
   ]
  },
  {
   "cell_type": "code",
   "execution_count": 3,
   "metadata": {},
   "outputs": [],
   "source": [
    "from sklearn.tree import DecisionTreeClassifier\n",
    "from sklearn.preprocessing import LabelEncoder\n",
    "from sklearn.model_selection import train_test_split"
   ]
  },
  {
   "cell_type": "code",
   "execution_count": 27,
   "metadata": {},
   "outputs": [],
   "source": [
    "target_df = wheat_seeds_df.drop('area', axis=1)\n",
    "target_df = target_df.drop('perimeter', axis=1)\n",
    "target_df = target_df.drop('compactness', axis=1)\n",
    "target_df = target_df.drop('kernel_length', axis=1)\n",
    "target_df = target_df.drop('kernel_width', axis=1)\n",
    "target_df = target_df.drop('asymmetry_coeff', axis=1)\n",
    "target_df = target_df.drop('kernel_groove_length', axis=1)"
   ]
  },
  {
   "cell_type": "code",
   "execution_count": 39,
   "metadata": {},
   "outputs": [],
   "source": [
    "features_df_7_0 = wheat_seeds_df.drop('target', axis=1)\n",
    "\n",
    "features_df_6_0 = wheat_seeds_df.drop('kernel_groove_length', axis=1)\n",
    "features_df_6_0 = features_df_6_0.drop('target', axis=1)\n",
    "\n",
    "features_df_6_1 = wheat_seeds_df.drop('asymmetry_coeff', axis=1)\n",
    "features_df_6_1 = features_df_6_1.drop('target', axis=1)\n",
    "\n",
    "features_df_6_2 = wheat_seeds_df.drop('kernel_width', axis=1)\n",
    "features_df_6_2 = features_df_6_2.drop('target', axis=1)\n",
    "\n",
    "features_df_6_3 = wheat_seeds_df.drop('kernel_length', axis=1)\n",
    "features_df_6_3 = features_df_6_3.drop('target', axis=1)\n",
    "\n",
    "features_df_6_4 = wheat_seeds_df.drop('compactness', axis=1)\n",
    "features_df_6_4 = features_df_6_4.drop('target', axis=1)\n",
    "\n",
    "features_df_6_5 = wheat_seeds_df.drop('perimeter', axis=1)\n",
    "features_df_6_5 = features_df_6_5.drop('target', axis=1)\n",
    "\n",
    "features_df_6_6 = wheat_seeds_df.drop('area', axis=1)\n",
    "features_df_6_6 = features_df_6_6.drop('target', axis=1)"
   ]
  },
  {
   "cell_type": "code",
   "execution_count": 40,
   "metadata": {},
   "outputs": [],
   "source": [
    "tree_7_0 = DecisionTreeClassifier()\n",
    "tree_6_0 = DecisionTreeClassifier()\n",
    "tree_6_1 = DecisionTreeClassifier()\n",
    "tree_6_2 = DecisionTreeClassifier()\n",
    "tree_6_3 = DecisionTreeClassifier()\n",
    "tree_6_4 = DecisionTreeClassifier()\n",
    "tree_6_5 = DecisionTreeClassifier()\n",
    "tree_6_6 = DecisionTreeClassifier()\n",
    "\n",
    "target_numerical = LabelEncoder().fit_transform(target_df)"
   ]
  },
  {
   "cell_type": "code",
   "execution_count": 41,
   "metadata": {},
   "outputs": [],
   "source": [
    "(features_train_7_0,\n",
    " features_validation_7_0,\n",
    " target_train_7_0,\n",
    " target_validation_7_0) = train_test_split(features_df_7_0, target_numerical)\n",
    "\n",
    "(features_train_6_0,\n",
    " features_validation_6_0,\n",
    " target_train_6_0,\n",
    " target_validation_6_0) = train_test_split(features_df_6_0, target_numerical)\n",
    "\n",
    "(features_train_6_1,\n",
    " features_validation_6_1,\n",
    " target_train_6_1,\n",
    " target_validation_6_1) = train_test_split(features_df_6_1, target_numerical)\n",
    "\n",
    "\n",
    "(features_train_6_2,\n",
    " features_validation_6_2,\n",
    " target_train_6_2,\n",
    " target_validation_6_2) = train_test_split(features_df_6_2, target_numerical)\n",
    "\n",
    "\n",
    "(features_train_6_0,\n",
    " features_validation_6_0,\n",
    " target_train_6_0,\n",
    " target_validation_6_0) = train_test_split(features_df_6_0, target_numerical)\n",
    "\n",
    "\n",
    "(features_train_6_3,\n",
    " features_validation_6_3,\n",
    " target_train_6_3,\n",
    " target_validation_6_3) = train_test_split(features_df_6_3, target_numerical)\n",
    "\n",
    "\n",
    "(features_train_6_4,\n",
    " features_validation_6_4,\n",
    " target_train_6_4,\n",
    " target_validation_6_4) = train_test_split(features_df_6_4, target_numerical)\n",
    "\n",
    "\n",
    "(features_train_6_5,\n",
    " features_validation_6_5,\n",
    " target_train_6_5,\n",
    " target_validation_6_5) = train_test_split(features_df_6_5, target_numerical)\n",
    "\n",
    "(features_train_6_6,\n",
    " features_validation_6_6,\n",
    " target_train_6_6,\n",
    " target_validation_6_6) = train_test_split(features_df_6_6, target_numerical)"
   ]
  },
  {
   "cell_type": "code",
   "execution_count": 49,
   "metadata": {},
   "outputs": [],
   "source": [
    "model_7_0 = tree_7_0.fit(features_train_7_0, target_train_7_0)\n",
    "model_6_0 = tree_6_0.fit(features_train_6_0, target_train_6_0)\n",
    "model_6_1 = tree_6_1.fit(features_train_6_1, target_train_6_1)\n",
    "model_6_2 = tree_6_2.fit(features_train_6_2, target_train_6_2)\n",
    "model_6_3 = tree_6_3.fit(features_train_6_3, target_train_6_3)\n",
    "model_6_4 = tree_6_4.fit(features_train_6_4, target_train_6_4)\n",
    "model_6_5 = tree_6_5.fit(features_train_6_5, target_train_6_5)\n",
    "model_6_6 = tree_6_6.fit(features_train_6_6, target_train_6_6)\n",
    "\n",
    "target_prediction_7_0 = tree_7_0.predict(features_validation_7_0)\n",
    "target_prediction_6_0 = tree_6_0.predict(features_validation_6_0)\n",
    "target_prediction_6_1 = tree_6_1.predict(features_validation_6_1)\n",
    "target_prediction_6_2 = tree_6_2.predict(features_validation_6_2)\n",
    "target_prediction_6_3 = tree_6_3.predict(features_validation_6_3)\n",
    "target_prediction_6_4 = tree_6_4.predict(features_validation_6_4)\n",
    "target_prediction_6_5 = tree_6_5.predict(features_validation_6_5)\n",
    "target_prediction_6_6 = tree_6_6.predict(features_validation_6_6)"
   ]
  },
  {
   "cell_type": "code",
   "execution_count": 50,
   "metadata": {},
   "outputs": [],
   "source": [
    "def accuracy(actual, predicted):\n",
    "    return 1- sum(np.abs(actual - predicted))/len(actual)"
   ]
  },
  {
   "cell_type": "code",
   "execution_count": 51,
   "metadata": {},
   "outputs": [
    {
     "name": "stdout",
     "output_type": "stream",
     "text": [
      "0.88679245283\n",
      "0.716981132075\n",
      "0.849056603774\n",
      "0.88679245283\n",
      "0.849056603774\n",
      "0.716981132075\n",
      "0.867924528302\n",
      "0.905660377358\n"
     ]
    }
   ],
   "source": [
    "print(accuracy(target_validation_7_0, target_prediction_7_0))\n",
    "print(accuracy(target_validation_6_0, target_prediction_6_0))\n",
    "print(accuracy(target_validation_6_1, target_prediction_6_1))\n",
    "print(accuracy(target_validation_6_2, target_prediction_6_2))\n",
    "print(accuracy(target_validation_6_3, target_prediction_6_3))\n",
    "print(accuracy(target_validation_6_4, target_prediction_6_4))\n",
    "print(accuracy(target_validation_6_5, target_prediction_6_5))\n",
    "print(accuracy(target_validation_6_6, target_prediction_6_6))"
   ]
  },
  {
   "cell_type": "code",
   "execution_count": 52,
   "metadata": {},
   "outputs": [
    {
     "name": "stdout",
     "output_type": "stream",
     "text": [
      "1.0\n",
      "1.0\n",
      "1.0\n",
      "1.0\n",
      "1.0\n",
      "1.0\n",
      "1.0\n",
      "1.0\n"
     ]
    }
   ],
   "source": [
    "print(model_7_0.score(features_train_7_0, target_train_7_0))\n",
    "print(model_6_0.score(features_train_6_0, target_train_6_0))\n",
    "print(model_6_1.score(features_train_6_1, target_train_6_1))\n",
    "print(model_6_2.score(features_train_6_2, target_train_6_2))\n",
    "print(model_6_3.score(features_train_6_3, target_train_6_3))\n",
    "print(model_6_4.score(features_train_6_4, target_train_6_4))\n",
    "print(model_6_5.score(features_train_6_5, target_train_6_5))\n",
    "print(model_6_6.score(features_train_6_6, target_train_6_6))"
   ]
  }
 ],
 "metadata": {
  "kernelspec": {
   "display_name": "Python 3",
   "language": "python",
   "name": "python3"
  },
  "language_info": {
   "codemirror_mode": {
    "name": "ipython",
    "version": 3
   },
   "file_extension": ".py",
   "mimetype": "text/x-python",
   "name": "python",
   "nbconvert_exporter": "python",
   "pygments_lexer": "ipython3",
   "version": "3.6.4"
  }
 },
 "nbformat": 4,
 "nbformat_minor": 2
}
